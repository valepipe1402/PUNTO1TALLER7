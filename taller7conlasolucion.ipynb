{
 "cells": [
  {
   "cell_type": "code",
   "execution_count": 1,
   "metadata": {},
   "outputs": [],
   "source": [
    "import pyspark\n",
    "sc = pyspark.SparkContext('local[*]')\n",
    "\n",
    "from pyspark.sql import SQLContext\n",
    "sqlContext = SQLContext(sc)"
   ]
  },
  {
   "cell_type": "markdown",
   "metadata": {},
   "source": [
    "## Leer los datos"
   ]
  },
  {
   "cell_type": "code",
   "execution_count": 2,
   "metadata": {},
   "outputs": [],
   "source": [
    "df = sqlContext.read.format(\"csv\").option(\"delimiter\", \"\\t\").option(\"header\", \"true\").load(\"cubo_ventas/fact_item.txt\")"
   ]
  },
  {
   "cell_type": "code",
   "execution_count": 17,
   "metadata": {},
   "outputs": [],
   "source": [
    "df_clientes = sqlContext.read.format(\"csv\").option(\"delimiter\", \"\\t\").option(\"header\", \"true\").load(\"cubo_ventas/dim_customer.txt\")"
   ]
  },
  {
   "cell_type": "code",
   "execution_count": 13,
   "metadata": {},
   "outputs": [],
   "source": [
    "dforder = sqlContext.read.format(\"csv\").option(\"delimiter\", \"\\t\").option(\"header\", \"true\").load(\"cubo_ventas/dim_order.txt\")"
   ]
  },
  {
   "cell_type": "code",
   "execution_count": 29,
   "metadata": {},
   "outputs": [],
   "source": [
    "df_catalogo = sqlContext.read.format(\"csv\").option(\"delimiter\", \"\\t\").option(\"header\", \"true\").load(\"cubo_ventas/dim_catalog.txt\")"
   ]
  },
  {
   "cell_type": "code",
   "execution_count": 4,
   "metadata": {},
   "outputs": [
    {
     "data": {
      "text/plain": [
       "Row(dwh_country_id='276', fk_sales_order_item='88056', fk_sales_order='5642', local_unit_price='1.29', unit_price_eur='1.29', local_tax_amount='0.08', tax_amount_eur='0.08', local_paid_price='1.29', paid_price_eur='1.29', local_paid_price_net='1.21', paid_price_net_eur='1.21', local_coupon_money_value='0', coupon_money_value_eur='0', local_coupon_money_value_net='0', coupon_money_value_eur_net='0', local_original_price='1.29', original_unit_price_eur='0.89', fk_dim_catalog='1676', fk_dim_date='9/28/2015 12:00:00 AM', fk_dim_customer='194', fk_dim_order='6142', order_bi_created_at='9/28/2015 8:33:17 AM', order_bi_updated_at='1/26/2016 3:55:59 PM', order_item_bi_created_at='9/28/2015 8:33:17 AM', order_item_bi_updated_at='9/28/2015 8:34:04 AM')"
      ]
     },
     "execution_count": 4,
     "metadata": {},
     "output_type": "execute_result"
    }
   ],
   "source": [
    "df.head()"
   ]
  },
  {
   "cell_type": "code",
   "execution_count": 14,
   "metadata": {},
   "outputs": [
    {
     "data": {
      "text/plain": [
       "Row(id_dim_order='5', dwh_country_id='276', id_sales_order='1500', order_nr='200005846', payment_method='Adyen_Paypal', delivery_date='5/20/2015 12:00:00 AM', delivery_time='14:00 - 22:00', is_recurring='0', is_subscription='0', region_code='DE-BE')"
      ]
     },
     "execution_count": 14,
     "metadata": {},
     "output_type": "execute_result"
    }
   ],
   "source": [
    "dforder.head()"
   ]
  },
  {
   "cell_type": "code",
   "execution_count": 19,
   "metadata": {},
   "outputs": [
    {
     "data": {
      "text/plain": [
       "Row(id_dim_customer='4696', dwh_country_id='276', region_code='DE-BE', customer_id='4826', first_order_id='9619', first_order_date='12/21/2015 10:24:12 AM', unit_price_total_eur='150', paid_price_total_eur='150', coupon_value_total_eur='0', coupon_value_total_eur_net='0', tax_total_eur='23.95', cogs_sum_eur='150', shipping_amount_eur='0', net_revenue_eur='126.05', orders='1', is_employee='0', order_nr='200015282', channel='SEO')"
      ]
     },
     "execution_count": 19,
     "metadata": {},
     "output_type": "execute_result"
    }
   ],
   "source": [
    "df_clientes.head()"
   ]
  },
  {
   "cell_type": "code",
   "execution_count": 9,
   "metadata": {},
   "outputs": [
    {
     "name": "stdout",
     "output_type": "stream",
     "text": [
      "root\n",
      " |-- dwh_country_id: string (nullable = true)\n",
      " |-- fk_sales_order_item: string (nullable = true)\n",
      " |-- fk_sales_order: string (nullable = true)\n",
      " |-- local_unit_price: string (nullable = true)\n",
      " |-- unit_price_eur: string (nullable = true)\n",
      " |-- local_tax_amount: string (nullable = true)\n",
      " |-- tax_amount_eur: string (nullable = true)\n",
      " |-- local_paid_price: string (nullable = true)\n",
      " |-- paid_price_eur: string (nullable = true)\n",
      " |-- local_paid_price_net: string (nullable = true)\n",
      " |-- paid_price_net_eur: string (nullable = true)\n",
      " |-- local_coupon_money_value: string (nullable = true)\n",
      " |-- coupon_money_value_eur: string (nullable = true)\n",
      " |-- local_coupon_money_value_net: string (nullable = true)\n",
      " |-- coupon_money_value_eur_net: string (nullable = true)\n",
      " |-- local_original_price: string (nullable = true)\n",
      " |-- original_unit_price_eur: string (nullable = true)\n",
      " |-- fk_dim_catalog: string (nullable = true)\n",
      " |-- fk_dim_date: string (nullable = true)\n",
      " |-- fk_dim_customer: string (nullable = true)\n",
      " |-- fk_dim_order: string (nullable = true)\n",
      " |-- order_bi_created_at: string (nullable = true)\n",
      " |-- order_bi_updated_at: string (nullable = true)\n",
      " |-- order_item_bi_created_at: string (nullable = true)\n",
      " |-- order_item_bi_updated_at: string (nullable = true)\n",
      "\n"
     ]
    }
   ],
   "source": [
    "df.printSchema()"
   ]
  },
  {
   "cell_type": "code",
   "execution_count": 15,
   "metadata": {},
   "outputs": [
    {
     "name": "stdout",
     "output_type": "stream",
     "text": [
      "root\n",
      " |-- id_dim_order: string (nullable = true)\n",
      " |-- dwh_country_id: string (nullable = true)\n",
      " |-- id_sales_order: string (nullable = true)\n",
      " |-- order_nr: string (nullable = true)\n",
      " |-- payment_method: string (nullable = true)\n",
      " |-- delivery_date: string (nullable = true)\n",
      " |-- delivery_time: string (nullable = true)\n",
      " |-- is_recurring: string (nullable = true)\n",
      " |-- is_subscription: string (nullable = true)\n",
      " |-- region_code: string (nullable = true)\n",
      "\n"
     ]
    }
   ],
   "source": [
    "dforder.printSchema()"
   ]
  },
  {
   "cell_type": "code",
   "execution_count": 20,
   "metadata": {},
   "outputs": [
    {
     "name": "stdout",
     "output_type": "stream",
     "text": [
      "root\n",
      " |-- id_dim_customer: string (nullable = true)\n",
      " |-- dwh_country_id: string (nullable = true)\n",
      " |-- region_code: string (nullable = true)\n",
      " |-- customer_id: string (nullable = true)\n",
      " |-- first_order_id: string (nullable = true)\n",
      " |-- first_order_date: string (nullable = true)\n",
      " |-- unit_price_total_eur: string (nullable = true)\n",
      " |-- paid_price_total_eur: string (nullable = true)\n",
      " |-- coupon_value_total_eur: string (nullable = true)\n",
      " |-- coupon_value_total_eur_net: string (nullable = true)\n",
      " |-- tax_total_eur: string (nullable = true)\n",
      " |-- cogs_sum_eur: string (nullable = true)\n",
      " |-- shipping_amount_eur: string (nullable = true)\n",
      " |-- net_revenue_eur: string (nullable = true)\n",
      " |-- orders: string (nullable = true)\n",
      " |-- is_employee: string (nullable = true)\n",
      " |-- order_nr: string (nullable = true)\n",
      " |-- channel: string (nullable = true)\n",
      "\n"
     ]
    }
   ],
   "source": [
    "df_clientes.printSchema()"
   ]
  },
  {
   "cell_type": "code",
   "execution_count": 7,
   "metadata": {},
   "outputs": [
    {
     "name": "stdout",
     "output_type": "stream",
     "text": [
      "+-------+----------------------+\n",
      "|summary|coupon_money_value_eur|\n",
      "+-------+----------------------+\n",
      "|  count|                175909|\n",
      "|   mean|    0.5124941873354916|\n",
      "| stddev|    1.5807061553353743|\n",
      "|    min|                     0|\n",
      "|    max|                  9.99|\n",
      "+-------+----------------------+\n",
      "\n"
     ]
    }
   ],
   "source": [
    "df.describe('dwh_country_id').show()"
   ]
  },
  {
   "cell_type": "code",
   "execution_count": 31,
   "metadata": {},
   "outputs": [
    {
     "data": {
      "text/plain": [
       "Row(id_catalog='32', dwh_country_id='276', fk_catalog_config='251', config_sku='VO021DFAA06ZSWG', fk_catalog_simple='251', simple_sku='VO021DFAA06ZSWG-251', name='Apfelsaft Demeter Naturtrüb', description='Naturtrüber Apfelsaft aus dem Hause Voelkel Naturkostsäfte hat einen erfrischend fruchtigen Geschmack. Die vollreifen, aromatischen Äpfel werden schonend und werthaltend zu einem 100% Direktsaft gepresst. Pur oder als Schorle, der optimale Saft für die ganze Familie.&nbsp;<br><br><b>Zutaten:</b><br>Apfelsaft<br><br><font face=\"helvetica, arial, sans-serif\"><b>Nährwerte pro 100g:</b></font><br>Brennwert: 46kcal (193kJ)<br>Eiweiß: 0,1g<br>Kohlenhydrate: 11g<br>davon Zucker: 10,5g<br>Fett: 0,1g<br>davon gesättigte Fettsäuren: 0g<br>Salz: 0g<br><br><b>Allergieinform</b><b>ation:</b><br>Fruktose', producer_id='22', producer='Voelkel Naturkostsäfte', fk_catalog_brand='21')"
      ]
     },
     "execution_count": 31,
     "metadata": {},
     "output_type": "execute_result"
    }
   ],
   "source": [
    "df_catalogo.head()"
   ]
  },
  {
   "cell_type": "code",
   "execution_count": 32,
   "metadata": {},
   "outputs": [
    {
     "name": "stdout",
     "output_type": "stream",
     "text": [
      "root\n",
      " |-- id_catalog: string (nullable = true)\n",
      " |-- dwh_country_id: string (nullable = true)\n",
      " |-- fk_catalog_config: string (nullable = true)\n",
      " |-- config_sku: string (nullable = true)\n",
      " |-- fk_catalog_simple: string (nullable = true)\n",
      " |-- simple_sku: string (nullable = true)\n",
      " |-- name: string (nullable = true)\n",
      " |-- description: string (nullable = true)\n",
      " |-- producer_id: string (nullable = true)\n",
      " |-- producer: string (nullable = true)\n",
      " |-- fk_catalog_brand: string (nullable = true)\n",
      "\n"
     ]
    }
   ],
   "source": [
    "df_catalogo.printSchema()"
   ]
  },
  {
   "cell_type": "markdown",
   "metadata": {},
   "source": [
    "## SQL API"
   ]
  },
  {
   "cell_type": "code",
   "execution_count": 6,
   "metadata": {},
   "outputs": [
    {
     "name": "stdout",
     "output_type": "stream",
     "text": [
      "+-----------------+-------------------+\n",
      "|          channel|fk_sales_order_item|\n",
      "+-----------------+-------------------+\n",
      "|Social Media Paid|              88056|\n",
      "|Social Media Paid|              88055|\n",
      "|Social Media Paid|              88054|\n",
      "|Social Media Paid|              88053|\n",
      "|Social Media Paid|              88052|\n",
      "|Social Media Paid|              88051|\n",
      "|Social Media Paid|              91950|\n",
      "|Social Media Paid|              91949|\n",
      "|Social Media Paid|              91948|\n",
      "|Social Media Paid|              91947|\n",
      "+-----------------+-------------------+\n",
      "\n"
     ]
    }
   ],
   "source": [
    "df.createOrReplaceTempView(\"fact_item\")\n",
    "df_clientes.createOrReplaceTempView(\"dim_customer\")\n",
    "users = sqlContext.sql(\"SELECT channel,fk_sales_order_item \\\n",
    "                       FROM fact_item join dim_customer on fk_dim_customer=id_dim_customer limit 10\")\n",
    "users.show()"
   ]
  },
  {
   "cell_type": "markdown",
   "metadata": {},
   "source": [
    "### 1. Perfilamiento de datos"
   ]
  },
  {
   "cell_type": "markdown",
   "metadata": {},
   "source": [
    "Realice un perfilamiento de datos para 4 columnas de fact_item que hagan referencia a una métrica. "
   ]
  },
  {
   "cell_type": "markdown",
   "metadata": {},
   "source": [
    "### 2. Ejercicio SQL:"
   ]
  },
  {
   "cell_type": "markdown",
   "metadata": {},
   "source": [
    "a.Ventas (fact_item.paid_price_total_eur) por canal de mercadeo (dim_custome.channel)\n"
   ]
  },
  {
   "cell_type": "code",
   "execution_count": 25,
   "metadata": {},
   "outputs": [
    {
     "name": "stdout",
     "output_type": "stream",
     "text": [
      "+-------+----------------------+------------------+\n",
      "|summary|coupon_money_value_eur|   fk_dim_customer|\n",
      "+-------+----------------------+------------------+\n",
      "|  count|                175909|            175909|\n",
      "|   mean|    0.5124941873354916|2983.0401400724236|\n",
      "| stddev|    1.5807061553353743| 1731.487141296873|\n",
      "|    min|                     0|                 1|\n",
      "|    max|                  9.99|               999|\n",
      "+-------+----------------------+------------------+\n",
      "\n"
     ]
    }
   ],
   "source": [
    "df.describe('coupon_money_value_eur','fk_dim_customer').show()"
   ]
  },
  {
   "cell_type": "code",
   "execution_count": 9,
   "metadata": {},
   "outputs": [
    {
     "name": "stdout",
     "output_type": "stream",
     "text": [
      "+-------+-----------------+\n",
      "|summary|   paid_price_eur|\n",
      "+-------+-----------------+\n",
      "|  count|           175909|\n",
      "|   mean|2.732469856573652|\n",
      "| stddev|4.437943426162388|\n",
      "|    min|                0|\n",
      "|    max|            97.64|\n",
      "+-------+-----------------+\n",
      "\n"
     ]
    }
   ],
   "source": [
    "df.describe('paid_price_eur').show()"
   ]
  },
  {
   "cell_type": "code",
   "execution_count": 10,
   "metadata": {},
   "outputs": [
    {
     "name": "stdout",
     "output_type": "stream",
     "text": [
      "+-------+--------------------+\n",
      "|summary|local_paid_price_net|\n",
      "+-------+--------------------+\n",
      "|  count|              175909|\n",
      "|   mean|  2.5127063993309577|\n",
      "| stddev|   4.020914443434434|\n",
      "|    min|                   0|\n",
      "|    max|               91.25|\n",
      "+-------+--------------------+\n",
      "\n"
     ]
    }
   ],
   "source": [
    "df.describe('local_paid_price_net').show()"
   ]
  },
  {
   "cell_type": "code",
   "execution_count": 11,
   "metadata": {},
   "outputs": [
    {
     "name": "stdout",
     "output_type": "stream",
     "text": [
      "+-------+--------------------------+\n",
      "|summary|coupon_money_value_eur_net|\n",
      "+-------+--------------------------+\n",
      "|  count|                    175909|\n",
      "|   mean|       0.47048928707455506|\n",
      "| stddev|        1.4405870756600305|\n",
      "|    min|                         0|\n",
      "|    max|                      9.98|\n",
      "+-------+--------------------------+\n",
      "\n"
     ]
    }
   ],
   "source": [
    "df.describe('coupon_money_value_eur_net').show()"
   ]
  },
  {
   "cell_type": "code",
   "execution_count": 23,
   "metadata": {},
   "outputs": [
    {
     "name": "stdout",
     "output_type": "stream",
     "text": [
      "+-------+--------------------+\n",
      "|summary|            order_nr|\n",
      "+-------+--------------------+\n",
      "|  count|                4356|\n",
      "|   mean|2.0002886250757575E8|\n",
      "| stddev|   31351.36631100774|\n",
      "|    min|           200000035|\n",
      "|    max|           200099992|\n",
      "+-------+--------------------+\n",
      "\n"
     ]
    }
   ],
   "source": [
    "df_clientes.describe('order_nr').show() "
   ]
  },
  {
   "cell_type": "markdown",
   "metadata": {},
   "source": []
  },
  {
   "cell_type": "markdown",
   "metadata": {},
   "source": [
    "b.Número de clientes por método de pago (dim_order.payment_method)"
   ]
  },
  {
   "cell_type": "code",
   "execution_count": 22,
   "metadata": {},
   "outputs": [
    {
     "name": "stdout",
     "output_type": "stream",
     "text": [
      "+---------------+-----------------+\n",
      "|numero_clientes|   payment_method|\n",
      "+---------------+-----------------+\n",
      "|             84|        NoPayment|\n",
      "|            357|              COD|\n",
      "|           1347| Adyen_CreditCard|\n",
      "|            481|Adyen_DirectDebit|\n",
      "|           2046|     Adyen_Paypal|\n",
      "+---------------+-----------------+\n",
      "\n"
     ]
    }
   ],
   "source": [
    "dforder.createOrReplaceTempView(\"dim_order\")\n",
    "df_clientes.createOrReplaceTempView(\"dim_customer\")\n",
    "clientes = sqlContext.sql(\"SELECT count(c.id_dim_customer) as numero_clientes,o.payment_method \\\n",
    "                       FROM dim_customer c join dim_order o on c.order_nr=o.order_nr GROUP BY o.payment_method\")\n",
    "clientes.show()"
   ]
  },
  {
   "cell_type": "code",
   "execution_count": 28,
   "metadata": {},
   "outputs": [
    {
     "name": "stdout",
     "output_type": "stream",
     "text": [
      "+---------------+--------------------+\n",
      "|numero_clientes|      payment_method|\n",
      "+---------------+--------------------+\n",
      "|            169|           NoPayment|\n",
      "|            559|                 COD|\n",
      "|           1727|    Adyen_CreditCard|\n",
      "|            853|   Adyen_DirectDebit|\n",
      "|              7|Adyen_PaypalRecur...|\n",
      "|           2407|        Adyen_Paypal|\n",
      "+---------------+--------------------+\n",
      "\n"
     ]
    }
   ],
   "source": [
    "df.createOrReplaceTempView(\"fact_item\")\n",
    "dforder.createOrReplaceTempView(\"dim_order\")\n",
    "clientes = sqlContext.sql(\"SELECT count(DISTINCT f.fk_dim_customer) as numero_clientes,o.payment_method \\\n",
    "                       FROM fact_item f join dim_order o on o.id_dim_order = f.fk_dim_order GROUP BY o.payment_method\")\n",
    "clientes.show()"
   ]
  },
  {
   "cell_type": "markdown",
   "metadata": {},
   "source": [
    "c.Ranking de productores (dim_catalog.producer) por ventas (fact_item.paid_price_total_eur)"
   ]
  },
  {
   "cell_type": "code",
   "execution_count": 35,
   "metadata": {},
   "outputs": [
    {
     "name": "stdout",
     "output_type": "stream",
     "text": [
      "+--------------------+------------------+\n",
      "|            producer|            ventas|\n",
      "+--------------------+------------------+\n",
      "|          Ecollevant|185.81999999999996|\n",
      "|            Schilkin|             35.82|\n",
      "|     Quartiermeister| 530.9599999999999|\n",
      "|     Blomeyer's Käse|13623.400000000085|\n",
      "|Berliner Lachsman...|3218.0399999999972|\n",
      "|          Weisswange|217.80000000000013|\n",
      "|    Apfelhof Wähnert| 729.0299999999997|\n",
      "|              DALUMA|3056.5099999999943|\n",
      "|          Backflasch|159.29999999999995|\n",
      "|Landfleischerei R...| 14971.79999999999|\n",
      "|        Marmelicious| 1125.079999999999|\n",
      "|              Frulee|25.020000000000003|\n",
      "| Wildfarm Werneuchen|171.62999999999994|\n",
      "|The Sausage Man N...|1501.5199999999993|\n",
      "|         Mr Lemonade| 71.53999999999999|\n",
      "|          Wesermühle|328.35999999999996|\n",
      "|          Ankerkraut|             26.67|\n",
      "|        Schoppe Bräu| 640.9399999999997|\n",
      "|     Linumer Landhof|1502.3600000000017|\n",
      "|           Hermann's|410.68000000000046|\n",
      "|         KERNenergie| 263.7299999999999|\n",
      "|    Green Cup Coffee|205.03000000000003|\n",
      "|       Obsthof Maxin| 897.6699999999955|\n",
      "|Die Kraft des Urs...|435.74000000000024|\n",
      "|       Eiland Grimme| 760.0200000000002|\n",
      "+--------------------+------------------+\n",
      "only showing top 25 rows\n",
      "\n"
     ]
    }
   ],
   "source": [
    "df.createOrReplaceTempView(\"fact_item\")\n",
    "df_catalogo.createOrReplaceTempView(\"dim_catalog\")\n",
    "ranking = sqlContext.sql(\"SELECT c.producer,SUM(f.paid_price_eur) as ventas \\\n",
    "                       FROM fact_item f join dim_catalog c on c.id_catalog = f.fk_dim_catalog GROUP BY c.producer\")\n",
    "ranking.show(25)"
   ]
  },
  {
   "cell_type": "markdown",
   "metadata": {},
   "source": [
    "d. Ranking de clientes por ventas (fact_item.paid_price_total_eur"
   ]
  },
  {
   "cell_type": "code",
   "execution_count": 41,
   "metadata": {},
   "outputs": [
    {
     "name": "stdout",
     "output_type": "stream",
     "text": [
      "+-------+------------------+\n",
      "|cliente|            ventas|\n",
      "+-------+------------------+\n",
      "|   1265| 4097.139999999961|\n",
      "|   5416| 3990.409999999939|\n",
      "|   3654|3367.3500000000004|\n",
      "|   2750| 3226.549999999975|\n",
      "|   5144| 3061.189999999996|\n",
      "|    535|2548.0499999999956|\n",
      "|    586|2326.9699999999907|\n",
      "|   5064| 2179.300000000002|\n",
      "|   3407| 2056.279999999994|\n",
      "|   2751|2031.3100000000184|\n",
      "|   1964|1850.9700000000053|\n",
      "|    946|1672.7800000000045|\n",
      "|   3445| 1640.970000000001|\n",
      "|   2493|1491.4900000000073|\n",
      "|   5557|1487.5599999999986|\n",
      "|   1603|1407.6300000000035|\n",
      "|   5202|1350.0400000000036|\n",
      "|    516|1347.8800000000065|\n",
      "|    726|1320.0600000000036|\n",
      "|    332|1284.7000000000064|\n",
      "+-------+------------------+\n",
      "only showing top 20 rows\n",
      "\n"
     ]
    }
   ],
   "source": [
    "df.createOrReplaceTempView(\"fact_item\")\n",
    "df_clientes.createOrReplaceTempView(\"dim_customer\")\n",
    "ranking = sqlContext.sql(\"SELECT c.id_dim_customer as cliente, SUM(f.paid_price_eur) as ventas \\\n",
    "                       FROM dim_customer c join fact_item f on f.fk_dim_customer = c.id_dim_customer GROUP BY c.id_dim_customer ORDER BY ventas DESC\")\n",
    "ranking.show()"
   ]
  },
  {
   "cell_type": "markdown",
   "metadata": {},
   "source": [
    "e. Número de órdenes con más de 3 items y con valor pagado por item mayor a 30 euros (fact_item.paid_price_total_eur)"
   ]
  },
  {
   "cell_type": "code",
   "execution_count": 49,
   "metadata": {},
   "outputs": [
    {
     "name": "stdout",
     "output_type": "stream",
     "text": [
      "+-----+------------+\n",
      "|total|fk_dim_order|\n",
      "+-----+------------+\n",
      "|    4|        6996|\n",
      "|   10|        9167|\n",
      "|    4|        2237|\n",
      "|    4|        2243|\n",
      "|    4|        2235|\n",
      "|    4|        2241|\n",
      "|    4|        2239|\n",
      "+-----+------------+\n",
      "\n"
     ]
    },
    {
     "data": {
      "text/plain": [
       "7"
      ]
     },
     "execution_count": 49,
     "metadata": {},
     "output_type": "execute_result"
    }
   ],
   "source": [
    "df.createOrReplaceTempView(\"fact_item\")\n",
    "dforder.createOrReplaceTempView(\"dim_order\")\n",
    "ordenes = sqlContext.sql(\"SELECT count(*) as total, fk_dim_order \\\n",
    "                       FROM fact_item  where paid_price_net_eur>30 group by fk_dim_order having total>3\")\n",
    "ordenes.show()\n",
    "ordenes.count()"
   ]
  },
  {
   "cell_type": "markdown",
   "metadata": {},
   "source": [
    "### Ejercicios PySpark"
   ]
  },
  {
   "cell_type": "markdown",
   "metadata": {},
   "source": [
    "Elija dos de las preguntas del punto anterior y respóndalas utilizando las funciones de PySpark\n",
    "http://spark.apache.org/docs/2.1.0/api/python/pyspark.sql.html\n",
    "https://www.analyticsvidhya.com/blog/2016/10/spark-dataframe-and-operations/\n"
   ]
  }
 ],
 "metadata": {
  "kernelspec": {
   "display_name": "Python 3",
   "language": "python",
   "name": "python3"
  },
  "language_info": {
   "codemirror_mode": {
    "name": "ipython",
    "version": 3
   },
   "file_extension": ".py",
   "mimetype": "text/x-python",
   "name": "python",
   "nbconvert_exporter": "python",
   "pygments_lexer": "ipython3",
   "version": "3.6.5"
  }
 },
 "nbformat": 4,
 "nbformat_minor": 2
}
